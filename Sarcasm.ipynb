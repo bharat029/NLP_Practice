{
  "nbformat": 4,
  "nbformat_minor": 0,
  "metadata": {
    "colab": {
      "name": "Sarcasm.ipynb",
      "provenance": []
    },
    "kernelspec": {
      "name": "python3",
      "display_name": "Python 3"
    }
  },
  "cells": [
    {
      "cell_type": "code",
      "metadata": {
        "id": "M9J-4pk_fy0y",
        "colab_type": "code",
        "colab": {}
      },
      "source": [
        "import tensorflow as tf\n",
        "import numpy as np\n",
        "import matplotlib.pyplot as plt\n",
        "import json\n",
        "import random\n",
        "\n",
        "%matplotlib inline\n",
        "random.seed(0)"
      ],
      "execution_count": 0,
      "outputs": []
    },
    {
      "cell_type": "code",
      "metadata": {
        "id": "XrMtyQcHgXsp",
        "colab_type": "code",
        "colab": {}
      },
      "source": [
        "vocab_size = 1000\n",
        "embedding_dim = 16\n",
        "max_length = 120\n",
        "trunc_type='post'\n",
        "padding_type='post'\n",
        "oov_tok = \"<OOV>\"\n",
        "training_size = 20000"
      ],
      "execution_count": 0,
      "outputs": []
    },
    {
      "cell_type": "code",
      "metadata": {
        "id": "VPZ9f570gnCO",
        "colab_type": "code",
        "outputId": "c7c3ae5e-5c9d-4abf-eaca-0fa99ba0e585",
        "colab": {
          "base_uri": "https://localhost:8080/",
          "height": 34
        }
      },
      "source": [
        "with open('sarcasm.json') as ds_json:\n",
        "    ds = json.load(ds_json)\n",
        "\n",
        "print('Number of examples:', len(ds))\n",
        "\n",
        "sentences = []\n",
        "labels = []\n",
        "\n",
        "for ex in ds:\n",
        "  sentences.append(ex['headline'])\n",
        "  labels.append(ex['is_sarcastic'])\n",
        "\n",
        "train_sentences = sentences[:training_size]\n",
        "test_sentences = sentences[training_size:]\n",
        "train_labels = labels[:training_size]\n",
        "test_labels = labels[training_size:]"
      ],
      "execution_count": 6,
      "outputs": [
        {
          "output_type": "stream",
          "text": [
            "Number of examples: 26709\n"
          ],
          "name": "stdout"
        }
      ]
    },
    {
      "cell_type": "code",
      "metadata": {
        "id": "7GqNCz5ThgL2",
        "colab_type": "code",
        "colab": {}
      },
      "source": [
        "tokenizer = tf.keras.preprocessing.text.Tokenizer(num_words=vocab_size, oov_token=oov_tok)\n",
        "tokenizer.fit_on_texts(train_sentences)\n",
        "\n",
        "train_sequences = tokenizer.texts_to_sequences(train_sentences)\n",
        "train_pad_sequences = tf.keras.preprocessing.sequence.pad_sequences(train_sequences, maxlen=max_length, padding=padding_type, truncating=trunc_type)\n",
        "\n",
        "test_sequences = tokenizer.texts_to_sequences(test_sentences)\n",
        "test_pad_sequences = tf.keras.preprocessing.sequence.pad_sequences(test_sequences, maxlen=max_length, padding=padding_type, truncating=trunc_type)"
      ],
      "execution_count": 0,
      "outputs": []
    },
    {
      "cell_type": "code",
      "metadata": {
        "id": "Y1t7u2WPg7MP",
        "colab_type": "code",
        "outputId": "e91842de-059a-4412-ff3b-b7d792ff8bb5",
        "colab": {
          "base_uri": "https://localhost:8080/",
          "height": 357
        }
      },
      "source": [
        "model_1 = tf.keras.models.Sequential([\n",
        "    tf.keras.layers.Embedding(input_dim=vocab_size, output_dim=embedding_dim, input_length=max_length),\n",
        "    tf.keras.layers.Conv1D(filters=128, kernel_size=5, kernel_regularizer=tf.keras.regularizers.l2(0.001), activation=tf.nn.relu),\n",
        "    tf.keras.layers.GlobalAveragePooling1D(),\n",
        "    tf.keras.layers.Dropout(0.5),\n",
        "    tf.keras.layers.Dense(128, kernel_regularizer=tf.keras.regularizers.l2(0.001), activation=tf.nn.relu),\n",
        "    tf.keras.layers.Dense(1, activation=tf.nn.sigmoid)\n",
        "])\n",
        "\n",
        "model_1.compile(loss=tf.keras.losses.BinaryCrossentropy(),optimizer=tf.keras.optimizers.Adam(),metrics=['accuracy'])\n",
        "model_1.summary()"
      ],
      "execution_count": 8,
      "outputs": [
        {
          "output_type": "stream",
          "text": [
            "Model: \"sequential\"\n",
            "_________________________________________________________________\n",
            "Layer (type)                 Output Shape              Param #   \n",
            "=================================================================\n",
            "embedding (Embedding)        (None, 120, 16)           16000     \n",
            "_________________________________________________________________\n",
            "conv1d (Conv1D)              (None, 116, 128)          10368     \n",
            "_________________________________________________________________\n",
            "global_average_pooling1d (Gl (None, 128)               0         \n",
            "_________________________________________________________________\n",
            "dropout (Dropout)            (None, 128)               0         \n",
            "_________________________________________________________________\n",
            "dense (Dense)                (None, 128)               16512     \n",
            "_________________________________________________________________\n",
            "dense_1 (Dense)              (None, 1)                 129       \n",
            "=================================================================\n",
            "Total params: 43,009\n",
            "Trainable params: 43,009\n",
            "Non-trainable params: 0\n",
            "_________________________________________________________________\n"
          ],
          "name": "stdout"
        }
      ]
    },
    {
      "cell_type": "code",
      "metadata": {
        "id": "9MOu9YjUmttG",
        "colab_type": "code",
        "outputId": "08b6b6b8-33a3-433c-9c4c-3e5d30a24eca",
        "colab": {
          "base_uri": "https://localhost:8080/",
          "height": 1000
        }
      },
      "source": [
        "train_pad_sequences = np.array(train_pad_sequences)\n",
        "train_labels = np.array(train_labels)\n",
        "test_pad_sequences = np.array(test_pad_sequences)\n",
        "test_labels = np.array(test_labels)\n",
        "history_1 = model_1.fit(train_pad_sequences, train_labels, epochs=75, validation_data=(test_pad_sequences, test_labels), verbose=1)"
      ],
      "execution_count": 9,
      "outputs": [
        {
          "output_type": "stream",
          "text": [
            "Train on 20000 samples, validate on 6709 samples\n",
            "Epoch 1/75\n",
            "20000/20000 [==============================] - 7s 372us/sample - loss: 0.6926 - accuracy: 0.5627 - val_loss: 0.6108 - val_accuracy: 0.7117\n",
            "Epoch 2/75\n",
            "20000/20000 [==============================] - 7s 348us/sample - loss: 0.5724 - accuracy: 0.7706 - val_loss: 0.5554 - val_accuracy: 0.7743\n",
            "Epoch 3/75\n",
            "20000/20000 [==============================] - 7s 354us/sample - loss: 0.5295 - accuracy: 0.7859 - val_loss: 0.5232 - val_accuracy: 0.7857\n",
            "Epoch 4/75\n",
            "20000/20000 [==============================] - 7s 348us/sample - loss: 0.4960 - accuracy: 0.8012 - val_loss: 0.5009 - val_accuracy: 0.7945\n",
            "Epoch 5/75\n",
            "20000/20000 [==============================] - 7s 351us/sample - loss: 0.4774 - accuracy: 0.8084 - val_loss: 0.4849 - val_accuracy: 0.7985\n",
            "Epoch 6/75\n",
            "20000/20000 [==============================] - 7s 356us/sample - loss: 0.4614 - accuracy: 0.8143 - val_loss: 0.4694 - val_accuracy: 0.8085\n",
            "Epoch 7/75\n",
            "20000/20000 [==============================] - 7s 352us/sample - loss: 0.4495 - accuracy: 0.8196 - val_loss: 0.4600 - val_accuracy: 0.8111\n",
            "Epoch 8/75\n",
            "20000/20000 [==============================] - 7s 353us/sample - loss: 0.4413 - accuracy: 0.8199 - val_loss: 0.4541 - val_accuracy: 0.8128\n",
            "Epoch 9/75\n",
            "20000/20000 [==============================] - 7s 354us/sample - loss: 0.4345 - accuracy: 0.8225 - val_loss: 0.4481 - val_accuracy: 0.8107\n",
            "Epoch 10/75\n",
            "20000/20000 [==============================] - 7s 348us/sample - loss: 0.4286 - accuracy: 0.8258 - val_loss: 0.4454 - val_accuracy: 0.8141\n",
            "Epoch 11/75\n",
            "20000/20000 [==============================] - 7s 356us/sample - loss: 0.4206 - accuracy: 0.8296 - val_loss: 0.4403 - val_accuracy: 0.8177\n",
            "Epoch 12/75\n",
            "20000/20000 [==============================] - 7s 356us/sample - loss: 0.4156 - accuracy: 0.8314 - val_loss: 0.4376 - val_accuracy: 0.8195\n",
            "Epoch 13/75\n",
            "20000/20000 [==============================] - 7s 351us/sample - loss: 0.4094 - accuracy: 0.8353 - val_loss: 0.4332 - val_accuracy: 0.8202\n",
            "Epoch 14/75\n",
            "20000/20000 [==============================] - 7s 357us/sample - loss: 0.4043 - accuracy: 0.8364 - val_loss: 0.4291 - val_accuracy: 0.8240\n",
            "Epoch 15/75\n",
            "20000/20000 [==============================] - 7s 349us/sample - loss: 0.3991 - accuracy: 0.8411 - val_loss: 0.4326 - val_accuracy: 0.8231\n",
            "Epoch 16/75\n",
            "20000/20000 [==============================] - 7s 353us/sample - loss: 0.3940 - accuracy: 0.8414 - val_loss: 0.4299 - val_accuracy: 0.8237\n",
            "Epoch 17/75\n",
            "20000/20000 [==============================] - 7s 342us/sample - loss: 0.3948 - accuracy: 0.8398 - val_loss: 0.4275 - val_accuracy: 0.8229\n",
            "Epoch 18/75\n",
            "20000/20000 [==============================] - 7s 348us/sample - loss: 0.3915 - accuracy: 0.8432 - val_loss: 0.4285 - val_accuracy: 0.8240\n",
            "Epoch 19/75\n",
            "20000/20000 [==============================] - 7s 345us/sample - loss: 0.3854 - accuracy: 0.8461 - val_loss: 0.4268 - val_accuracy: 0.8250\n",
            "Epoch 20/75\n",
            "20000/20000 [==============================] - 7s 350us/sample - loss: 0.3827 - accuracy: 0.8474 - val_loss: 0.4271 - val_accuracy: 0.8231\n",
            "Epoch 21/75\n",
            "20000/20000 [==============================] - 7s 363us/sample - loss: 0.3827 - accuracy: 0.8469 - val_loss: 0.4299 - val_accuracy: 0.8232\n",
            "Epoch 22/75\n",
            "20000/20000 [==============================] - 7s 356us/sample - loss: 0.3801 - accuracy: 0.8479 - val_loss: 0.4243 - val_accuracy: 0.8226\n",
            "Epoch 23/75\n",
            "20000/20000 [==============================] - 7s 352us/sample - loss: 0.3737 - accuracy: 0.8497 - val_loss: 0.4274 - val_accuracy: 0.8231\n",
            "Epoch 24/75\n",
            "20000/20000 [==============================] - 7s 350us/sample - loss: 0.3739 - accuracy: 0.8508 - val_loss: 0.4376 - val_accuracy: 0.8237\n",
            "Epoch 25/75\n",
            "20000/20000 [==============================] - 7s 352us/sample - loss: 0.3710 - accuracy: 0.8520 - val_loss: 0.4252 - val_accuracy: 0.8232\n",
            "Epoch 26/75\n",
            "20000/20000 [==============================] - 7s 346us/sample - loss: 0.3722 - accuracy: 0.8507 - val_loss: 0.4203 - val_accuracy: 0.8256\n",
            "Epoch 27/75\n",
            "20000/20000 [==============================] - 7s 346us/sample - loss: 0.3665 - accuracy: 0.8545 - val_loss: 0.4237 - val_accuracy: 0.8225\n",
            "Epoch 28/75\n",
            "20000/20000 [==============================] - 7s 349us/sample - loss: 0.3673 - accuracy: 0.8533 - val_loss: 0.4390 - val_accuracy: 0.8199\n",
            "Epoch 29/75\n",
            "20000/20000 [==============================] - 7s 352us/sample - loss: 0.3659 - accuracy: 0.8533 - val_loss: 0.4325 - val_accuracy: 0.8247\n",
            "Epoch 30/75\n",
            "20000/20000 [==============================] - 7s 348us/sample - loss: 0.3629 - accuracy: 0.8569 - val_loss: 0.4285 - val_accuracy: 0.8264\n",
            "Epoch 31/75\n",
            "20000/20000 [==============================] - 7s 355us/sample - loss: 0.3589 - accuracy: 0.8568 - val_loss: 0.4301 - val_accuracy: 0.8243\n",
            "Epoch 32/75\n",
            "20000/20000 [==============================] - 7s 353us/sample - loss: 0.3560 - accuracy: 0.8591 - val_loss: 0.4296 - val_accuracy: 0.8250\n",
            "Epoch 33/75\n",
            "20000/20000 [==============================] - 7s 352us/sample - loss: 0.3563 - accuracy: 0.8587 - val_loss: 0.4272 - val_accuracy: 0.8268\n",
            "Epoch 34/75\n",
            "20000/20000 [==============================] - 7s 345us/sample - loss: 0.3520 - accuracy: 0.8612 - val_loss: 0.4347 - val_accuracy: 0.8247\n",
            "Epoch 35/75\n",
            "20000/20000 [==============================] - 7s 349us/sample - loss: 0.3527 - accuracy: 0.8611 - val_loss: 0.4419 - val_accuracy: 0.8234\n",
            "Epoch 36/75\n",
            "20000/20000 [==============================] - 7s 350us/sample - loss: 0.3522 - accuracy: 0.8619 - val_loss: 0.4254 - val_accuracy: 0.8267\n",
            "Epoch 37/75\n",
            "20000/20000 [==============================] - 7s 355us/sample - loss: 0.3501 - accuracy: 0.8615 - val_loss: 0.4346 - val_accuracy: 0.8261\n",
            "Epoch 38/75\n",
            "20000/20000 [==============================] - 7s 352us/sample - loss: 0.3427 - accuracy: 0.8655 - val_loss: 0.4377 - val_accuracy: 0.8259\n",
            "Epoch 39/75\n",
            "20000/20000 [==============================] - 7s 349us/sample - loss: 0.3461 - accuracy: 0.8647 - val_loss: 0.4348 - val_accuracy: 0.8237\n",
            "Epoch 40/75\n",
            "20000/20000 [==============================] - 7s 356us/sample - loss: 0.3438 - accuracy: 0.8651 - val_loss: 0.4247 - val_accuracy: 0.8281\n",
            "Epoch 41/75\n",
            "20000/20000 [==============================] - 7s 350us/sample - loss: 0.3407 - accuracy: 0.8656 - val_loss: 0.4388 - val_accuracy: 0.8226\n",
            "Epoch 42/75\n",
            "20000/20000 [==============================] - 7s 356us/sample - loss: 0.3379 - accuracy: 0.8670 - val_loss: 0.4341 - val_accuracy: 0.8247\n",
            "Epoch 43/75\n",
            "20000/20000 [==============================] - 7s 350us/sample - loss: 0.3406 - accuracy: 0.8684 - val_loss: 0.4370 - val_accuracy: 0.8256\n",
            "Epoch 44/75\n",
            "20000/20000 [==============================] - 7s 349us/sample - loss: 0.3384 - accuracy: 0.8670 - val_loss: 0.4346 - val_accuracy: 0.8238\n",
            "Epoch 45/75\n",
            "20000/20000 [==============================] - 7s 357us/sample - loss: 0.3394 - accuracy: 0.8666 - val_loss: 0.4370 - val_accuracy: 0.8216\n",
            "Epoch 46/75\n",
            "20000/20000 [==============================] - 7s 355us/sample - loss: 0.3327 - accuracy: 0.8695 - val_loss: 0.4469 - val_accuracy: 0.8234\n",
            "Epoch 47/75\n",
            "20000/20000 [==============================] - 7s 348us/sample - loss: 0.3289 - accuracy: 0.8728 - val_loss: 0.4405 - val_accuracy: 0.8249\n",
            "Epoch 48/75\n",
            "20000/20000 [==============================] - 7s 352us/sample - loss: 0.3295 - accuracy: 0.8719 - val_loss: 0.4589 - val_accuracy: 0.8214\n",
            "Epoch 49/75\n",
            "20000/20000 [==============================] - 7s 354us/sample - loss: 0.3280 - accuracy: 0.8742 - val_loss: 0.4478 - val_accuracy: 0.8217\n",
            "Epoch 50/75\n",
            "20000/20000 [==============================] - 7s 349us/sample - loss: 0.3282 - accuracy: 0.8746 - val_loss: 0.4432 - val_accuracy: 0.8228\n",
            "Epoch 51/75\n",
            "20000/20000 [==============================] - 7s 345us/sample - loss: 0.3250 - accuracy: 0.8749 - val_loss: 0.4455 - val_accuracy: 0.8268\n",
            "Epoch 52/75\n",
            "20000/20000 [==============================] - 7s 345us/sample - loss: 0.3244 - accuracy: 0.8741 - val_loss: 0.4541 - val_accuracy: 0.8247\n",
            "Epoch 53/75\n",
            "20000/20000 [==============================] - 7s 345us/sample - loss: 0.3230 - accuracy: 0.8773 - val_loss: 0.4463 - val_accuracy: 0.8228\n",
            "Epoch 54/75\n",
            "20000/20000 [==============================] - 7s 354us/sample - loss: 0.3230 - accuracy: 0.8758 - val_loss: 0.4483 - val_accuracy: 0.8226\n",
            "Epoch 55/75\n",
            "20000/20000 [==============================] - 7s 347us/sample - loss: 0.3166 - accuracy: 0.8788 - val_loss: 0.4497 - val_accuracy: 0.8219\n",
            "Epoch 56/75\n",
            "20000/20000 [==============================] - 7s 354us/sample - loss: 0.3164 - accuracy: 0.8798 - val_loss: 0.4541 - val_accuracy: 0.8244\n",
            "Epoch 57/75\n",
            "20000/20000 [==============================] - 7s 358us/sample - loss: 0.3158 - accuracy: 0.8811 - val_loss: 0.4561 - val_accuracy: 0.8237\n",
            "Epoch 58/75\n",
            "20000/20000 [==============================] - 7s 352us/sample - loss: 0.3131 - accuracy: 0.8831 - val_loss: 0.4510 - val_accuracy: 0.8249\n",
            "Epoch 59/75\n",
            "20000/20000 [==============================] - 7s 351us/sample - loss: 0.3125 - accuracy: 0.8824 - val_loss: 0.4602 - val_accuracy: 0.8216\n",
            "Epoch 60/75\n",
            "20000/20000 [==============================] - 7s 344us/sample - loss: 0.3142 - accuracy: 0.8825 - val_loss: 0.4582 - val_accuracy: 0.8234\n",
            "Epoch 61/75\n",
            "20000/20000 [==============================] - 7s 345us/sample - loss: 0.3139 - accuracy: 0.8808 - val_loss: 0.4502 - val_accuracy: 0.8232\n",
            "Epoch 62/75\n",
            "20000/20000 [==============================] - 7s 354us/sample - loss: 0.3115 - accuracy: 0.8812 - val_loss: 0.4709 - val_accuracy: 0.8205\n",
            "Epoch 63/75\n",
            "20000/20000 [==============================] - 7s 358us/sample - loss: 0.3094 - accuracy: 0.8838 - val_loss: 0.4573 - val_accuracy: 0.8223\n",
            "Epoch 64/75\n",
            "20000/20000 [==============================] - 7s 353us/sample - loss: 0.3025 - accuracy: 0.8887 - val_loss: 0.4725 - val_accuracy: 0.8170\n",
            "Epoch 65/75\n",
            "20000/20000 [==============================] - 7s 367us/sample - loss: 0.3064 - accuracy: 0.8862 - val_loss: 0.4735 - val_accuracy: 0.8211\n",
            "Epoch 66/75\n",
            "20000/20000 [==============================] - 8s 376us/sample - loss: 0.3045 - accuracy: 0.8868 - val_loss: 0.4642 - val_accuracy: 0.8229\n",
            "Epoch 67/75\n",
            "20000/20000 [==============================] - 7s 350us/sample - loss: 0.3012 - accuracy: 0.8885 - val_loss: 0.4701 - val_accuracy: 0.8211\n",
            "Epoch 68/75\n",
            "20000/20000 [==============================] - 7s 345us/sample - loss: 0.3036 - accuracy: 0.8869 - val_loss: 0.4695 - val_accuracy: 0.8207\n",
            "Epoch 69/75\n",
            "20000/20000 [==============================] - 7s 351us/sample - loss: 0.2969 - accuracy: 0.8906 - val_loss: 0.4722 - val_accuracy: 0.8164\n",
            "Epoch 70/75\n",
            "20000/20000 [==============================] - 7s 347us/sample - loss: 0.3010 - accuracy: 0.8899 - val_loss: 0.4888 - val_accuracy: 0.8146\n",
            "Epoch 71/75\n",
            "20000/20000 [==============================] - 7s 354us/sample - loss: 0.2956 - accuracy: 0.8916 - val_loss: 0.4780 - val_accuracy: 0.8204\n",
            "Epoch 72/75\n",
            "20000/20000 [==============================] - 7s 352us/sample - loss: 0.2968 - accuracy: 0.8910 - val_loss: 0.4900 - val_accuracy: 0.8213\n",
            "Epoch 73/75\n",
            "20000/20000 [==============================] - 7s 350us/sample - loss: 0.2959 - accuracy: 0.8916 - val_loss: 0.4765 - val_accuracy: 0.8198\n",
            "Epoch 74/75\n",
            "20000/20000 [==============================] - 7s 355us/sample - loss: 0.2922 - accuracy: 0.8933 - val_loss: 0.4792 - val_accuracy: 0.8204\n",
            "Epoch 75/75\n",
            "20000/20000 [==============================] - 7s 345us/sample - loss: 0.2886 - accuracy: 0.8953 - val_loss: 0.4955 - val_accuracy: 0.8217\n"
          ],
          "name": "stdout"
        }
      ]
    },
    {
      "cell_type": "code",
      "metadata": {
        "id": "duf8Ya--ytgl",
        "colab_type": "code",
        "colab": {
          "base_uri": "https://localhost:8080/",
          "height": 323
        },
        "outputId": "626c4104-b6c1-41ba-a069-a63a5af6a7e2"
      },
      "source": [
        "model_2 = tf.keras.models.Sequential([\n",
        "    tf.keras.layers.Embedding(input_dim=vocab_size, output_dim=embedding_dim, input_length=max_length),\n",
        "    tf.keras.layers.Bidirectional(tf.keras.layers.LSTM(32, kernel_regularizer=tf.keras.regularizers.l2(0.001))),\n",
        "    tf.keras.layers.Dropout(0.5),\n",
        "    tf.keras.layers.Dense(128, kernel_regularizer=tf.keras.regularizers.l2(0.001), activation=tf.nn.relu),\n",
        "    tf.keras.layers.Dense(1, activation=tf.nn.sigmoid)\n",
        "])\n",
        "\n",
        "model_2.compile(loss=tf.keras.losses.BinaryCrossentropy(),optimizer=tf.keras.optimizers.Adam(),metrics=['accuracy'])\n",
        "model_2.summary()"
      ],
      "execution_count": 10,
      "outputs": [
        {
          "output_type": "stream",
          "text": [
            "Model: \"sequential_1\"\n",
            "_________________________________________________________________\n",
            "Layer (type)                 Output Shape              Param #   \n",
            "=================================================================\n",
            "embedding_1 (Embedding)      (None, 120, 16)           16000     \n",
            "_________________________________________________________________\n",
            "bidirectional (Bidirectional (None, 64)                12544     \n",
            "_________________________________________________________________\n",
            "dropout_1 (Dropout)          (None, 64)                0         \n",
            "_________________________________________________________________\n",
            "dense_2 (Dense)              (None, 128)               8320      \n",
            "_________________________________________________________________\n",
            "dense_3 (Dense)              (None, 1)                 129       \n",
            "=================================================================\n",
            "Total params: 36,993\n",
            "Trainable params: 36,993\n",
            "Non-trainable params: 0\n",
            "_________________________________________________________________\n"
          ],
          "name": "stdout"
        }
      ]
    },
    {
      "cell_type": "code",
      "metadata": {
        "id": "2NlMRPxsywqF",
        "colab_type": "code",
        "colab": {
          "base_uri": "https://localhost:8080/",
          "height": 544
        },
        "outputId": "60928405-67ed-4174-c1ad-35ead455686b"
      },
      "source": [
        "history_2 = model_2.fit(train_pad_sequences, train_labels, epochs=15, validation_data=(test_pad_sequences, test_labels), verbose=1)"
      ],
      "execution_count": 11,
      "outputs": [
        {
          "output_type": "stream",
          "text": [
            "Train on 20000 samples, validate on 6709 samples\n",
            "Epoch 1/15\n",
            "20000/20000 [==============================] - 46s 2ms/sample - loss: 0.5037 - accuracy: 0.7594 - val_loss: 0.4182 - val_accuracy: 0.8156\n",
            "Epoch 2/15\n",
            "20000/20000 [==============================] - 43s 2ms/sample - loss: 0.3880 - accuracy: 0.8310 - val_loss: 0.4173 - val_accuracy: 0.8135\n",
            "Epoch 3/15\n",
            "20000/20000 [==============================] - 44s 2ms/sample - loss: 0.3713 - accuracy: 0.8391 - val_loss: 0.3926 - val_accuracy: 0.8250\n",
            "Epoch 4/15\n",
            "20000/20000 [==============================] - 44s 2ms/sample - loss: 0.3506 - accuracy: 0.8497 - val_loss: 0.3867 - val_accuracy: 0.8264\n",
            "Epoch 5/15\n",
            "20000/20000 [==============================] - 43s 2ms/sample - loss: 0.3377 - accuracy: 0.8573 - val_loss: 0.3914 - val_accuracy: 0.8268\n",
            "Epoch 6/15\n",
            "20000/20000 [==============================] - 44s 2ms/sample - loss: 0.3294 - accuracy: 0.8590 - val_loss: 0.3926 - val_accuracy: 0.8299\n",
            "Epoch 7/15\n",
            "20000/20000 [==============================] - 44s 2ms/sample - loss: 0.3193 - accuracy: 0.8640 - val_loss: 0.3911 - val_accuracy: 0.8310\n",
            "Epoch 8/15\n",
            "20000/20000 [==============================] - 43s 2ms/sample - loss: 0.3137 - accuracy: 0.8686 - val_loss: 0.3921 - val_accuracy: 0.8292\n",
            "Epoch 9/15\n",
            "20000/20000 [==============================] - 43s 2ms/sample - loss: 0.3078 - accuracy: 0.8711 - val_loss: 0.3927 - val_accuracy: 0.8252\n",
            "Epoch 10/15\n",
            "20000/20000 [==============================] - 43s 2ms/sample - loss: 0.3000 - accuracy: 0.8758 - val_loss: 0.3966 - val_accuracy: 0.8293\n",
            "Epoch 11/15\n",
            "20000/20000 [==============================] - 44s 2ms/sample - loss: 0.2951 - accuracy: 0.8784 - val_loss: 0.4069 - val_accuracy: 0.8289\n",
            "Epoch 12/15\n",
            "20000/20000 [==============================] - 43s 2ms/sample - loss: 0.2890 - accuracy: 0.8782 - val_loss: 0.4108 - val_accuracy: 0.8214\n",
            "Epoch 13/15\n",
            "20000/20000 [==============================] - 44s 2ms/sample - loss: 0.2837 - accuracy: 0.8849 - val_loss: 0.4073 - val_accuracy: 0.8246\n",
            "Epoch 14/15\n",
            "20000/20000 [==============================] - 44s 2ms/sample - loss: 0.2782 - accuracy: 0.8862 - val_loss: 0.4152 - val_accuracy: 0.8176\n",
            "Epoch 15/15\n",
            "20000/20000 [==============================] - 44s 2ms/sample - loss: 0.2769 - accuracy: 0.8855 - val_loss: 0.4003 - val_accuracy: 0.8261\n"
          ],
          "name": "stdout"
        }
      ]
    },
    {
      "cell_type": "code",
      "metadata": {
        "id": "5wBCg22mryIO",
        "colab_type": "code",
        "colab": {
          "base_uri": "https://localhost:8080/",
          "height": 1000
        },
        "outputId": "9b8cdb43-c099-4f2f-905e-a38d305bac9d"
      },
      "source": [
        "def plot_graphs(history, label, string):\n",
        "    plt.ylim(top=1, bottom=0)\n",
        "    plt.plot(history.history[string])\n",
        "    plt.plot(history.history['val_'+string])\n",
        "    plt.title(label[:-1])\n",
        "    plt.xlabel(\"Epochs\")\n",
        "    plt.ylabel(string)\n",
        "    plt.legend([label+string, label+'val_'+string])\n",
        "    plt.show()\n",
        "\n",
        "plot_graphs(history_1, 'Conv1D ', 'accuracy')\n",
        "plot_graphs(history_2,  'LSTM ','accuracy')\n",
        "\n",
        "plot_graphs(history_1, 'Conv1D ', 'loss')\n",
        "plot_graphs(history_2,  'LSTM ','loss')"
      ],
      "execution_count": 12,
      "outputs": [
        {
          "output_type": "display_data",
          "data": {
            "image/png": "[encoded data removed]",
            "text/plain": [
              "<Figure size 432x288 with 1 Axes>"
            ]
          },
          "metadata": {
            "tags": []
          }
        },
        {
          "output_type": "display_data",
          "data": {
            "image/png": "[encoded data removed]",
            "text/plain": [
              "<Figure size 432x288 with 1 Axes>"
            ]
          },
          "metadata": {
            "tags": []
          }
        },
        {
          "output_type": "display_data",
          "data": {
            "image/png": "[encoded data removed]",
            "text/plain": [
              "<Figure size 432x288 with 1 Axes>"
            ]
          },
          "metadata": {
            "tags": []
          }
        },
        {
          "output_type": "display_data",
          "data": {
            "image/png": "[encoded data removed]",
            "text/plain": [
              "<Figure size 432x288 with 1 Axes>"
            ]
          },
          "metadata": {
            "tags": []
          }
        }
      ]
    },
    {
      "cell_type": "code",
      "metadata": {
        "id": "AIOwd-RCAq4b",
        "colab_type": "code",
        "colab": {}
      },
      "source": [
        "predictions_1 = model_1.predict(test_pad_sequences) > 0.5\n",
        "predictions_2 = model_2.predict(test_pad_sequences) > 0.5"
      ],
      "execution_count": 0,
      "outputs": []
    },
    {
      "cell_type": "code",
      "metadata": {
        "id": "ESvDfGDMBEHP",
        "colab_type": "code",
        "colab": {}
      },
      "source": [
        "confurion_matrix_1 = tf.math.confusion_matrix(test_labels, predictions_1)\n",
        "confurion_matrix_2 = tf.math.confusion_matrix(test_labels, predictions_2)"
      ],
      "execution_count": 0,
      "outputs": []
    },
    {
      "cell_type": "code",
      "metadata": {
        "id": "01a31dtpCK3I",
        "colab_type": "code",
        "colab": {
          "base_uri": "https://localhost:8080/",
          "height": 119
        },
        "outputId": "1789be90-121c-47f7-fceb-a251304ab063"
      },
      "source": [
        "print('Conv1D:')\n",
        "print(confurion_matrix_1.numpy())\n",
        "print('LSTM:')\n",
        "print(confurion_matrix_2.numpy())"
      ],
      "execution_count": 15,
      "outputs": [
        {
          "output_type": "stream",
          "text": [
            "Conv1D:\n",
            "[[3144  635]\n",
            " [ 561 2369]]\n",
            "LSTM:\n",
            "[[3224  555]\n",
            " [ 612 2318]]\n"
          ],
          "name": "stdout"
        }
      ]
    },
    {
      "cell_type": "code",
      "metadata": {
        "id": "HsEqkJCeIAT4",
        "colab_type": "code",
        "colab": {
          "base_uri": "https://localhost:8080/",
          "height": 51
        },
        "outputId": "7ed13899-125b-4f87-a7b5-98dbd2f63be3"
      },
      "source": [
        "loss_1, accuracy_1 = model_1.evaluate(test_pad_sequences, test_labels, verbose=1)\n",
        "loss_2, accuracy_2 = model_2.evaluate(test_pad_sequences, test_labels, verbose=1)"
      ],
      "execution_count": 16,
      "outputs": [
        {
          "output_type": "stream",
          "text": [
            "6709/6709 [==============================] - 1s 114us/sample - loss: 0.4955 - accuracy: 0.8217\n",
            "6709/6709 [==============================] - 4s 609us/sample - loss: 0.4003 - accuracy: 0.8261\n"
          ],
          "name": "stdout"
        }
      ]
    },
    {
      "cell_type": "code",
      "metadata": {
        "id": "RQ4v-DT-IxcR",
        "colab_type": "code",
        "colab": {
          "base_uri": "https://localhost:8080/",
          "height": 85
        },
        "outputId": "408bd617-c048-4d10-cf58-74c633fd4145"
      },
      "source": [
        "print(f'Conv1D:\\nLoss: {loss_1:.4f}\\tAccuracy: {accuracy_1:.2%}')\n",
        "print(f'LSTM:\\nLoss: {loss_2:.4f}\\tAccuracy: {accuracy_2}')"
      ],
      "execution_count": 17,
      "outputs": [
        {
          "output_type": "stream",
          "text": [
            "Conv1D:\n",
            "Loss: 0.4955\tAccuracy: 82.17%\n",
            "LSTM:\n",
            "Loss: 0.4003\tAccuracy: 0.826054573059082\n"
          ],
          "name": "stdout"
        }
      ]
    },
    {
      "cell_type": "code",
      "metadata": {
        "id": "wVSD8e3U937-",
        "colab_type": "code",
        "colab": {}
      },
      "source": [
        "model_1.save('Conv1D.h5')\n",
        "model_2.save('LSTM.h5')"
      ],
      "execution_count": 0,
      "outputs": []
    }
  ]
}